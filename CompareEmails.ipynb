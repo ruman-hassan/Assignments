{
  "nbformat": 4,
  "nbformat_minor": 0,
  "metadata": {
    "colab": {
      "provenance": []
    },
    "kernelspec": {
      "name": "python3",
      "display_name": "Python 3"
    },
    "language_info": {
      "name": "python"
    }
  },
  "cells": [
    {
      "cell_type": "code",
      "execution_count": null,
      "metadata": {
        "colab": {
          "base_uri": "https://localhost:8080/"
        },
        "id": "7YxAgBpKr3QL",
        "outputId": "1d0f7126-68b1-4d30-e09f-b20826fd1912"
      },
      "outputs": [
        {
          "output_type": "stream",
          "name": "stdout",
          "text": [
            "Common Emails:                         Common Emails\n",
            "0   bradley.omondi2021@strathmore.edu\n",
            "1         derick.njema@strathmore.edu\n",
            "2      gabriel.musyoki@strathmore.edu\n",
            "3     angeline.njuguna@strathmore.edu\n",
            "4     calvin.kinyanjui@strathmore.edu\n",
            "5        abigael.kirwa@strathmore.edu\n",
            "6        adrian.chacha@strathmore.edu\n",
            "7           ruth.mumba@strathmore.edu\n",
            "8       alvin.nyandeje@strathmore.edu\n",
            "9       dhanushi.savla@strathmore.edu\n",
            "10        paula.njenga@strathmore.edu\n",
            "11        andy.onyango@strathmore.edu\n",
            "12     victoria.mwaura@strathmore.edu\n",
            "13       angela.omollo@strathmore.edu\n",
            "14      alfred.muiyuro@strathmore.edu\n",
            "15       ronny.kimutai@strathmore.edu\n",
            "16           arnoldinjeni27@gmail.com\n",
            "17   marybrenda.onsomu@strathmore.edu\n"
          ]
        },
        {
          "output_type": "stream",
          "name": "stderr",
          "text": [
            "<ipython-input-12-c3d1c084c8b7>:4: FutureWarning: The squeeze argument has been deprecated and will be removed in a future version. Append .squeeze(\"columns\") to the call to squeeze.\n",
            "\n",
            "\n",
            "  df1 = pd.read_excel(\"emails1.xlsx\", sheet_name=\"Sheet1\", squeeze=True).to_frame()\n",
            "<ipython-input-12-c3d1c084c8b7>:5: FutureWarning: The squeeze argument has been deprecated and will be removed in a future version. Append .squeeze(\"columns\") to the call to squeeze.\n",
            "\n",
            "\n",
            "  df2 = pd.read_excel(\"emails2.xlsx\", sheet_name=\"Sheet1\", squeeze=True).to_frame()\n"
          ]
        }
      ],
      "source": [
        "import pandas as pd\n",
        "\n",
        "# Read Excel files\n",
        "df1 = pd.read_excel(\"emails1.xlsx\", sheet_name=\"Sheet1\", squeeze=True).to_frame()\n",
        "df2 = pd.read_excel(\"emails2.xlsx\", sheet_name=\"Sheet1\", squeeze=True).to_frame()\n",
        "\n",
        "# Print column names\n",
        "# print(df1.columns)\n",
        "# print(df2.columns)\n",
        "\n",
        "set1=set(df1[\"Emails\"])\n",
        "set2=set(df2[\"Emails\"])\n",
        "\n",
        "common_emails = set1 & set2\n",
        "common_email_df=pd.DataFrame({\"Common Emails\": list(common_emails)})\n",
        "\n",
        "print(\"Common Emails:\", common_email_df)\n",
        "\n",
        "# Convert columns to sets\n",
        "# set1 = set(df1[\"Emails\"])\n",
        "# set2 = set(df2[\"Emails\"])\n",
        "\n",
        "\n",
        "# # Find common emails\n",
        "# common_emails = set1 & set2\n",
        "\n",
        "# # Convert the set back to a list\n",
        "# common_emails_list = list(common_emails)\n",
        "\n",
        "# # Print or do whatever you want with the common emails list\n",
        "# print(\"Common Emails:\", common_emails_list)"
      ]
    },
    {
      "cell_type": "code",
      "source": [],
      "metadata": {
        "id": "KguEquontiB9"
      },
      "execution_count": null,
      "outputs": []
    }
  ]
}